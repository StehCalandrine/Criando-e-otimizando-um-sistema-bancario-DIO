{
 "cells": [
  {
   "cell_type": "markdown",
   "id": "b0c61dd1",
   "metadata": {},
   "source": [
    "### Criando um Sistema Bancário com Python"
   ]
  },
  {
   "cell_type": "code",
   "execution_count": null,
   "id": "e05a3099",
   "metadata": {},
   "outputs": [],
   "source": [
    "menu = \"\"\"Bem vindo(a)!\n",
    "Escolha uma operação:\n",
    "[d] Depositar\n",
    "[s] Sacar\n",
    "[e] Extrato\n",
    "[q] Sair\n",
    "Digite a operação: \"\"\"\n",
    "# Variáveis para armazenar informações da conta\n",
    "nome = \"Stephanie\"\n",
    "saldo = 0\n",
    "historico = []\n",
    "saques_diarios = 3\n",
    "limite_saque = 500.0\n",
    "while True:\n",
    "    escolha = input(menu)\n",
    "    if escolha == \"d\":\n",
    "        valor = float(input(\"Digite o valor do depósito: \"))\n",
    "        if valor > 0:\n",
    "            saldo += valor\n",
    "            historico.append(f'Depósito: +{valor:.2f}')\n",
    "            print(f'Depósito de R${valor:.2f} realizado com sucesso.')\n",
    "        else:\n",
    "            print('O valor do depósito deve ser maior que zero.')\n",
    "    elif escolha == \"s\":\n",
    "        valor = float(input(\"Digite o valor do saque: \"))\n",
    "        if valor > 0:\n",
    "            if saldo >= valor and saques_diarios > 0 and valor <= limite_saque:\n",
    "                saldo -= valor\n",
    "                historico.append(f'Saque: -{valor:.2f}')\n",
    "                saques_diarios -= 1\n",
    "                print(f'Saque de R${valor:.2f} realizado com sucesso.')\n",
    "            elif saques_diarios == 0:\n",
    "                print('Você atingiu o limite de saques diários.')\n",
    "            elif valor > limite_saque:\n",
    "                print(f'O valor do saque excede o limite máximo de R${limite_saque:.2f}.')\n",
    "            else:\n",
    "                print('Saldo insuficiente para o saque.')\n",
    "        else:\n",
    "            print('O valor do saque deve ser maior que zero.')\n",
    "    elif escolha == \"e\":\n",
    "        print(f'Extrato da conta de {nome}:')\n",
    "        if not historico:\n",
    "            print('Não foram realizadas movimentações.')\n",
    "        else:\n",
    "            for item in historico:\n",
    "                print(item)\n",
    "        print(f'Saldo atual: R${saldo:.2f}')\n",
    "    elif escolha == \"q\":\n",
    "        print(\"Saindo...\")\n",
    "        break\n",
    "    else:\n",
    "        print(\"Opção inválida. Tente novamente.\")"
   ]
  },
  {
   "cell_type": "code",
   "execution_count": null,
   "id": "5610a016",
   "metadata": {},
   "outputs": [],
   "source": []
  },
  {
   "cell_type": "code",
   "execution_count": null,
   "id": "93b0e00f",
   "metadata": {},
   "outputs": [],
   "source": []
  }
 ],
 "metadata": {
  "kernelspec": {
   "display_name": "Python 3",
   "language": "python",
   "name": "python3"
  },
  "language_info": {
   "codemirror_mode": {
    "name": "ipython",
    "version": 3
   },
   "file_extension": ".py",
   "mimetype": "text/x-python",
   "name": "python",
   "nbconvert_exporter": "python",
   "pygments_lexer": "ipython3",
   "version": "3.8.8"
  }
 },
 "nbformat": 4,
 "nbformat_minor": 5
}
