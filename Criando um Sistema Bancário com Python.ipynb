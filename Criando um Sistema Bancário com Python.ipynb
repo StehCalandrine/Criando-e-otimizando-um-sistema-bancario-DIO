{
 "cells": [
  {
   "cell_type": "markdown",
   "id": "b0c61dd1",
   "metadata": {},
   "source": [
    "### Criando um Sistema Bancário com Python"
   ]
  },
  {
   "cell_type": "code",
   "execution_count": 12,
   "id": "e05a3099",
   "metadata": {},
   "outputs": [
    {
     "name": "stdout",
     "output_type": "stream",
     "text": [
      "Bem vindo(a)!\n",
      "Escolha uma operação:\n",
      "[d] Depositar\n",
      "[s] Sacar\n",
      "[e] Extrato\n",
      "[q] Sair\n",
      "Digite a operação: d\n",
      "Digite o valor do depósito: 1000\n",
      "Depósito de R$1000.00 realizado com sucesso.\n",
      "Bem vindo(a)!\n",
      "Escolha uma operação:\n",
      "[d] Depositar\n",
      "[s] Sacar\n",
      "[e] Extrato\n",
      "[q] Sair\n",
      "Digite a operação: s\n",
      "Digite o valor do saque: 500\n",
      "Saque de R$500.00 realizado com sucesso.\n",
      "Bem vindo(a)!\n",
      "Escolha uma operação:\n",
      "[d] Depositar\n",
      "[s] Sacar\n",
      "[e] Extrato\n",
      "[q] Sair\n",
      "Digite a operação: e\n",
      "Extrato da conta de Stephanie:\n",
      "Depósito: +1000.00\n",
      "Saque: -500.00\n",
      "Saldo atual: R$500.00\n"
     ]
    },
    {
     "ename": "KeyboardInterrupt",
     "evalue": "Interrupted by user",
     "output_type": "error",
     "traceback": [
      "\u001b[1;31m---------------------------------------------------------------------------\u001b[0m",
      "\u001b[1;31mKeyboardInterrupt\u001b[0m                         Traceback (most recent call last)",
      "\u001b[1;32m<ipython-input-12-d1823677e525>\u001b[0m in \u001b[0;36m<module>\u001b[1;34m\u001b[0m\n\u001b[0;32m     13\u001b[0m \u001b[0mlimite_saque\u001b[0m \u001b[1;33m=\u001b[0m \u001b[1;36m500.0\u001b[0m\u001b[1;33m\u001b[0m\u001b[1;33m\u001b[0m\u001b[0m\n\u001b[0;32m     14\u001b[0m \u001b[1;32mwhile\u001b[0m \u001b[1;32mTrue\u001b[0m\u001b[1;33m:\u001b[0m\u001b[1;33m\u001b[0m\u001b[1;33m\u001b[0m\u001b[0m\n\u001b[1;32m---> 15\u001b[1;33m     \u001b[0mescolha\u001b[0m \u001b[1;33m=\u001b[0m \u001b[0minput\u001b[0m\u001b[1;33m(\u001b[0m\u001b[0mmenu\u001b[0m\u001b[1;33m)\u001b[0m\u001b[1;33m\u001b[0m\u001b[1;33m\u001b[0m\u001b[0m\n\u001b[0m\u001b[0;32m     16\u001b[0m     \u001b[1;32mif\u001b[0m \u001b[0mescolha\u001b[0m \u001b[1;33m==\u001b[0m \u001b[1;34m\"d\"\u001b[0m\u001b[1;33m:\u001b[0m\u001b[1;33m\u001b[0m\u001b[1;33m\u001b[0m\u001b[0m\n\u001b[0;32m     17\u001b[0m         \u001b[0mvalor\u001b[0m \u001b[1;33m=\u001b[0m \u001b[0mfloat\u001b[0m\u001b[1;33m(\u001b[0m\u001b[0minput\u001b[0m\u001b[1;33m(\u001b[0m\u001b[1;34m\"Digite o valor do depósito: \"\u001b[0m\u001b[1;33m)\u001b[0m\u001b[1;33m)\u001b[0m\u001b[1;33m\u001b[0m\u001b[1;33m\u001b[0m\u001b[0m\n",
      "\u001b[1;32mC:\\ProgramData\\Anaconda3\\lib\\site-packages\\ipykernel\\kernelbase.py\u001b[0m in \u001b[0;36mraw_input\u001b[1;34m(self, prompt)\u001b[0m\n\u001b[0;32m    858\u001b[0m                 \u001b[1;34m\"raw_input was called, but this frontend does not support input requests.\"\u001b[0m\u001b[1;33m\u001b[0m\u001b[1;33m\u001b[0m\u001b[0m\n\u001b[0;32m    859\u001b[0m             )\n\u001b[1;32m--> 860\u001b[1;33m         return self._input_request(str(prompt),\n\u001b[0m\u001b[0;32m    861\u001b[0m             \u001b[0mself\u001b[0m\u001b[1;33m.\u001b[0m\u001b[0m_parent_ident\u001b[0m\u001b[1;33m,\u001b[0m\u001b[1;33m\u001b[0m\u001b[1;33m\u001b[0m\u001b[0m\n\u001b[0;32m    862\u001b[0m             \u001b[0mself\u001b[0m\u001b[1;33m.\u001b[0m\u001b[0m_parent_header\u001b[0m\u001b[1;33m,\u001b[0m\u001b[1;33m\u001b[0m\u001b[1;33m\u001b[0m\u001b[0m\n",
      "\u001b[1;32mC:\\ProgramData\\Anaconda3\\lib\\site-packages\\ipykernel\\kernelbase.py\u001b[0m in \u001b[0;36m_input_request\u001b[1;34m(self, prompt, ident, parent, password)\u001b[0m\n\u001b[0;32m    902\u001b[0m             \u001b[1;32mexcept\u001b[0m \u001b[0mKeyboardInterrupt\u001b[0m\u001b[1;33m:\u001b[0m\u001b[1;33m\u001b[0m\u001b[1;33m\u001b[0m\u001b[0m\n\u001b[0;32m    903\u001b[0m                 \u001b[1;31m# re-raise KeyboardInterrupt, to truncate traceback\u001b[0m\u001b[1;33m\u001b[0m\u001b[1;33m\u001b[0m\u001b[1;33m\u001b[0m\u001b[0m\n\u001b[1;32m--> 904\u001b[1;33m                 \u001b[1;32mraise\u001b[0m \u001b[0mKeyboardInterrupt\u001b[0m\u001b[1;33m(\u001b[0m\u001b[1;34m\"Interrupted by user\"\u001b[0m\u001b[1;33m)\u001b[0m \u001b[1;32mfrom\u001b[0m \u001b[1;32mNone\u001b[0m\u001b[1;33m\u001b[0m\u001b[1;33m\u001b[0m\u001b[0m\n\u001b[0m\u001b[0;32m    905\u001b[0m             \u001b[1;32mexcept\u001b[0m \u001b[0mException\u001b[0m \u001b[1;32mas\u001b[0m \u001b[0me\u001b[0m\u001b[1;33m:\u001b[0m\u001b[1;33m\u001b[0m\u001b[1;33m\u001b[0m\u001b[0m\n\u001b[0;32m    906\u001b[0m                 \u001b[0mself\u001b[0m\u001b[1;33m.\u001b[0m\u001b[0mlog\u001b[0m\u001b[1;33m.\u001b[0m\u001b[0mwarning\u001b[0m\u001b[1;33m(\u001b[0m\u001b[1;34m\"Invalid Message:\"\u001b[0m\u001b[1;33m,\u001b[0m \u001b[0mexc_info\u001b[0m\u001b[1;33m=\u001b[0m\u001b[1;32mTrue\u001b[0m\u001b[1;33m)\u001b[0m\u001b[1;33m\u001b[0m\u001b[1;33m\u001b[0m\u001b[0m\n",
      "\u001b[1;31mKeyboardInterrupt\u001b[0m: Interrupted by user"
     ]
    }
   ],
   "source": [
    "menu = \"\"\"Bem vindo(a)!\n",
    "Escolha uma operação:\n",
    "[d] Depositar\n",
    "[s] Sacar\n",
    "[e] Extrato\n",
    "[q] Sair\n",
    "Digite a operação: \"\"\"\n",
    "# Variáveis para armazenar informações da conta\n",
    "nome = \"Stephanie\"\n",
    "saldo = 0\n",
    "historico = []\n",
    "saques_diarios = 3\n",
    "limite_saque = 500.0\n",
    "while True:\n",
    "    escolha = input(menu)\n",
    "    if escolha == \"d\":\n",
    "        valor = float(input(\"Digite o valor do depósito: \"))\n",
    "        if valor > 0:\n",
    "            saldo += valor\n",
    "            historico.append(f'Depósito: +{valor:.2f}')\n",
    "            print(f'Depósito de R${valor:.2f} realizado com sucesso.')\n",
    "        else:\n",
    "            print('O valor do depósito deve ser maior que zero.')\n",
    "    elif escolha == \"s\":\n",
    "        valor = float(input(\"Digite o valor do saque: \"))\n",
    "        if valor > 0:\n",
    "            if saldo >= valor and saques_diarios > 0 and valor <= limite_saque:\n",
    "                saldo -= valor\n",
    "                historico.append(f'Saque: -{valor:.2f}')\n",
    "                saques_diarios -= 1\n",
    "                print(f'Saque de R${valor:.2f} realizado com sucesso.')\n",
    "            elif saques_diarios == 0:\n",
    "                print('Você atingiu o limite de saques diários.')\n",
    "            elif valor > limite_saque:\n",
    "                print(f'O valor do saque excede o limite máximo de R${limite_saque:.2f}.')\n",
    "            else:\n",
    "                print('Saldo insuficiente para o saque.')\n",
    "        else:\n",
    "            print('O valor do saque deve ser maior que zero.')\n",
    "    elif escolha == \"e\":\n",
    "        print(f'Extrato da conta de {nome}:')\n",
    "        if not historico:\n",
    "            print('Não foram realizadas movimentações.')\n",
    "        else:\n",
    "            for item in historico:\n",
    "                print(item)\n",
    "        print(f'Saldo atual: R${saldo:.2f}')\n",
    "    elif escolha == \"q\":\n",
    "        print(\"Saindo...\")\n",
    "        break\n",
    "    else:\n",
    "        print(\"Opção inválida. Tente novamente.\")"
   ]
  },
  {
   "cell_type": "code",
   "execution_count": null,
   "id": "5610a016",
   "metadata": {},
   "outputs": [],
   "source": []
  },
  {
   "cell_type": "code",
   "execution_count": null,
   "id": "93b0e00f",
   "metadata": {},
   "outputs": [],
   "source": []
  }
 ],
 "metadata": {
  "kernelspec": {
   "display_name": "Python 3",
   "language": "python",
   "name": "python3"
  },
  "language_info": {
   "codemirror_mode": {
    "name": "ipython",
    "version": 3
   },
   "file_extension": ".py",
   "mimetype": "text/x-python",
   "name": "python",
   "nbconvert_exporter": "python",
   "pygments_lexer": "ipython3",
   "version": "3.8.8"
  }
 },
 "nbformat": 4,
 "nbformat_minor": 5
}
